{
  "nbformat": 4,
  "nbformat_minor": 0,
  "metadata": {
    "colab": {
      "provenance": []
    },
    "kernelspec": {
      "name": "python3",
      "display_name": "Python 3"
    },
    "language_info": {
      "name": "python"
    }
  },
  "cells": [
    {
      "cell_type": "code",
      "source": [
        "import os\n",
        "import re\n",
        "import numpy as np\n",
        "from collections import defaultdict\n",
        "from math import log\n"
      ],
      "metadata": {
        "id": "muRIDucxK_t4"
      },
      "execution_count": 38,
      "outputs": []
    },
    {
      "cell_type": "code",
      "source": [
        "from google.colab import drive\n",
        "drive.mount('/content/drive')"
      ],
      "metadata": {
        "colab": {
          "base_uri": "https://localhost:8080/"
        },
        "id": "72EJXpCJdi3Q",
        "outputId": "9d139889-10c0-44a6-cf12-a3d3b28509e8"
      },
      "execution_count": 39,
      "outputs": [
        {
          "output_type": "stream",
          "name": "stdout",
          "text": [
            "Drive already mounted at /content/drive; to attempt to forcibly remount, call drive.mount(\"/content/drive\", force_remount=True).\n"
          ]
        }
      ]
    },
    {
      "cell_type": "code",
      "source": [
        "# Preprocessing function\n",
        "def preprocess(text):\n",
        "    return re.findall(r'\\b\\w+\\b', text.lower())\n"
      ],
      "metadata": {
        "id": "6q6klgEqLB0-"
      },
      "execution_count": 40,
      "outputs": []
    },
    {
      "cell_type": "code",
      "source": [
        "\n",
        "# Load documents\n",
        "def load_documents(folder_path):\n",
        "    docs = {}\n",
        "    for filename in os.listdir(folder_path):\n",
        "        if filename.endswith('.txt'):\n",
        "            with open(os.path.join(folder_path, filename), 'r') as file:\n",
        "                docs[filename] = preprocess(file.read())\n",
        "    return docs\n"
      ],
      "metadata": {
        "id": "Fzq0xK1ELExV"
      },
      "execution_count": 41,
      "outputs": []
    },
    {
      "cell_type": "code",
      "source": [
        "# Load queries\n",
        "def load_queries(query_file_path):\n",
        "    with open(query_file_path, 'r') as file:\n",
        "        return [line.strip() for line in file.readlines()]\n"
      ],
      "metadata": {
        "id": "QJpzM5L2LH_D"
      },
      "execution_count": 42,
      "outputs": []
    },
    {
      "cell_type": "code",
      "source": [
        "# Compute term frequencies and document frequencies\n",
        "def compute_statistics(docs):\n",
        "    doc_count = len(docs)\n",
        "    term_doc_freq = defaultdict(int)\n",
        "    term_freq = defaultdict(lambda: defaultdict(int))\n",
        "\n",
        "    for doc_id, words in docs.items():\n",
        "        word_set = set(words)\n",
        "        for word in words:\n",
        "            term_freq[doc_id][word] += 1\n",
        "        for word in word_set:\n",
        "            term_doc_freq[word] += 1\n",
        "\n",
        "    return term_freq, term_doc_freq, doc_count"
      ],
      "metadata": {
        "id": "esKGI2lnLZZH"
      },
      "execution_count": 43,
      "outputs": []
    },
    {
      "cell_type": "code",
      "source": [
        "# Compute relevance probabilities using BIM\n",
        "def compute_relevance_prob(query, term_freq, term_doc_freq, doc_count):\n",
        "    scores = {}\n",
        "    for doc_id in term_freq:\n",
        "        score = 1.0\n",
        "        for term in query:\n",
        "            tf = term_freq[doc_id].get(term, 0)\n",
        "            df = term_doc_freq.get(term, 0)\n",
        "            p_term_given_relevant = (tf + 1) / (sum(term_freq[doc_id].values()) + len(term_doc_freq))\n",
        "            p_term_given_not_relevant = (df + 1) / (doc_count - df + len(term_doc_freq))\n",
        "            score *= (p_term_given_relevant / p_term_given_not_relevant)\n",
        "        scores[doc_id] = score\n",
        "    return scores"
      ],
      "metadata": {
        "id": "u04gsli_Lelc"
      },
      "execution_count": 44,
      "outputs": []
    },
    {
      "cell_type": "code",
      "source": [
        "import os\n",
        "\n",
        "# Main retrieval function\n",
        "def retrieve_documents(folder_path, query_file_path):\n",
        "    docs = load_documents(folder_path)\n",
        "    queries = load_queries(query_file_path)\n",
        "\n",
        "    term_freq, term_doc_freq, doc_count = compute_statistics(docs)\n",
        "\n",
        "    # Define the output file path in the same directory as the dataset folder\n",
        "    output_file_path = os.path.join(folder_path, 'Abin_result.txt')\n",
        "\n",
        "    # Open a file to write results in the same directory as the dataset\n",
        "    with open(output_file_path, 'w') as result_file:\n",
        "        for query in queries:\n",
        "            query_terms = preprocess(query)\n",
        "            scores = compute_relevance_prob(query_terms, term_freq, term_doc_freq, doc_count)\n",
        "            ranked_docs = sorted(scores.items(), key=lambda item: item[1], reverse=True)\n",
        "\n",
        "            # Print to console and write to file\n",
        "            print(f\"Query: {query}\")\n",
        "            result_file.write(f\"Query: {query}\\n\")\n",
        "\n",
        "            # Print and write only the top 3 results with ranks\n",
        "            for rank, (doc_id, score) in enumerate(ranked_docs[:3], start=1):\n",
        "                print(f\"Rank {rank}: Document {doc_id}, Score: {score:.4f}\")\n",
        "                result_file.write(f\"Rank {rank}: Document {doc_id}, Score: {score:.4f}\\n\")\n",
        "\n",
        "            print()\n",
        "            result_file.write(\"\\n\")\n",
        "\n",
        "\n",
        "folder_path = '/content/drive/MyDrive/info_retrieval_lab/Class_wk4'\n",
        "query_file_path = '/content/drive/MyDrive/info_retrieval_lab/Final project/queries2.txt'\n",
        "retrieve_documents(folder_path, query_file_path)\n"
      ],
      "metadata": {
        "colab": {
          "base_uri": "https://localhost:8080/"
        },
        "id": "v7EO32CGb4P6",
        "outputId": "aa9fc570-cfb6-4afc-c0a8-f5127877b429"
      },
      "execution_count": 46,
      "outputs": [
        {
          "output_type": "stream",
          "name": "stdout",
          "text": [
            "Query: ﻿to find the perfect airline that is\n",
            "Rank 1: Document Qatar Airway.txt, Score: 0.0008\n",
            "Rank 2: Document British Airways.txt, Score: 0.0005\n",
            "Rank 3: Document Cathay pacific.txt, Score: 0.0005\n",
            "\n",
            "Query: known for its comfort and reliability\n",
            "Rank 1: Document Delta Airline.txt, Score: 0.0031\n",
            "Rank 2: Document Air france.txt, Score: 0.0014\n",
            "Rank 3: Document Lufthansa.txt, Score: 0.0014\n",
            "\n",
            "Query: suitable for budget-conscious travelers\n",
            "Rank 1: Document ANA(All Nippon Airways).txt, Score: 0.0299\n",
            "Rank 2: Document Lufthansa.txt, Score: 0.0298\n",
            "Rank 3: Document Emirates.txt, Score: 0.0272\n",
            "\n",
            "Query: airlines that are known for their premium service\n",
            "Rank 1: Document Singapore Airline.txt, Score: 0.0000\n",
            "Rank 2: Document American Airline.txt, Score: 0.0000\n",
            "Rank 3: Document Emirates.txt, Score: 0.0000\n",
            "\n",
            "Query: airlines with hypoallergenic meals and special diet options\n",
            "Rank 1: Document American Airline.txt, Score: 0.0017\n",
            "Rank 2: Document Singapore Airline.txt, Score: 0.0007\n",
            "Rank 3: Document Qantas.txt, Score: 0.0005\n",
            "\n",
            "Query: airlines that cater to travelers with specific needs\n",
            "Rank 1: Document American Airline.txt, Score: 0.0001\n",
            "Rank 2: Document Qantas.txt, Score: 0.0001\n",
            "Rank 3: Document Qatar Airway.txt, Score: 0.0001\n",
            "\n",
            "Query: family-friendly airlines offering kid-friendly services\n",
            "Rank 1: Document Qantas.txt, Score: 0.0002\n",
            "Rank 2: Document American Airline.txt, Score: 0.0002\n",
            "Rank 3: Document Delta Airline.txt, Score: 0.0001\n",
            "\n",
            "Query: airlines with high customer satisfaction ratings\n",
            "Rank 1: Document Singapore Airline.txt, Score: 0.0026\n",
            "Rank 2: Document American Airline.txt, Score: 0.0007\n",
            "Rank 3: Document Etihad.txt, Score: 0.0005\n",
            "\n",
            "Query: an airline that is punctual and reliable\n",
            "Rank 1: Document Qatar Airway.txt, Score: 0.0005\n",
            "Rank 2: Document Lufthansa.txt, Score: 0.0003\n",
            "Rank 3: Document Qantas.txt, Score: 0.0003\n",
            "\n",
            "Query: baggage policies and flexibility of\n",
            "Rank 1: Document Emirates.txt, Score: 0.0498\n",
            "Rank 2: Document Singapore Airline.txt, Score: 0.0442\n",
            "Rank 3: Document Qatar Airway.txt, Score: 0.0411\n",
            "\n",
            "Query: for travelers looking for the best in-flight experience\n",
            "Rank 1: Document Emirates.txt, Score: 0.0001\n",
            "Rank 2: Document Qatar Airway.txt, Score: 0.0001\n",
            "Rank 3: Document Lufthansa.txt, Score: 0.0001\n",
            "\n",
            "Query: airlines that are easy to book with and have user-friendly apps\n",
            "Rank 1: Document American Airline.txt, Score: 0.0000\n",
            "Rank 2: Document Qantas.txt, Score: 0.0000\n",
            "Rank 3: Document Delta Airline.txt, Score: 0.0000\n",
            "\n",
            "Query: adapt well to different travel schedules and destinations\n",
            "Rank 1: Document British Airways.txt, Score: 0.0002\n",
            "Rank 2: Document Delta Airline.txt, Score: 0.0001\n",
            "Rank 3: Document Cathay pacific.txt, Score: 0.0001\n",
            "\n",
            "Query: known for their exceptional in-flight entertainment\n",
            "Rank 1: Document Emirates.txt, Score: 0.0007\n",
            "Rank 2: Document Singapore Airline.txt, Score: 0.0006\n",
            "Rank 3: Document ANA(All Nippon Airways).txt, Score: 0.0005\n",
            "\n",
            "Query: airlines with a friendly and helpful staff\n",
            "Rank 1: Document Qantas.txt, Score: 0.0018\n",
            "Rank 2: Document Singapore Airline.txt, Score: 0.0017\n",
            "Rank 3: Document Delta Airline.txt, Score: 0.0012\n",
            "\n",
            "Query: small regional airlines that offer direct flights\n",
            "Rank 1: Document American Airline.txt, Score: 0.0010\n",
            "Rank 2: Document Singapore Airline.txt, Score: 0.0006\n",
            "Rank 3: Document Qantas.txt, Score: 0.0004\n",
            "\n",
            "Query: large international airlines that cover multiple continents\n",
            "Rank 1: Document American Airline.txt, Score: 0.0017\n",
            "Rank 2: Document Emirates.txt, Score: 0.0011\n",
            "Rank 3: Document Qatar Airway.txt, Score: 0.0011\n",
            "\n",
            "Query: airlines known for their loyalty programs and frequent flyer benefits\n",
            "Rank 1: Document Delta Airline.txt, Score: 0.0000\n",
            "Rank 2: Document American Airline.txt, Score: 0.0000\n",
            "Rank 3: Document Singapore Airline.txt, Score: 0.0000\n",
            "\n"
          ]
        }
      ]
    },
    {
      "cell_type": "code",
      "source": [],
      "metadata": {
        "id": "O7HnTxvZbHY6"
      },
      "execution_count": null,
      "outputs": []
    }
  ]
}